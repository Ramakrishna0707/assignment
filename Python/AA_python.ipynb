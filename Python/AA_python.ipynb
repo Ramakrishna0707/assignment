{
 "cells": [
  {
   "cell_type": "code",
   "execution_count": 1,
   "id": "374b4cb8",
   "metadata": {},
   "outputs": [
    {
     "name": "stdout",
     "output_type": "stream",
     "text": [
      "Valid PIN code\n",
      "Invalid PIN code\n"
     ]
    }
   ],
   "source": [
    "# Importing the requests module\n",
    "import requests \n",
    "\n",
    "# created a function to validate pincode \n",
    "def validate_pincode(address):\n",
    "    \n",
    "  words = address.split()\n",
    "  \n",
    "  # Loop through the words to find a 6 digit pincode\n",
    "  for i in range(len(words)):\n",
    "    if len(words[i]) == 6 and words[i].isdigit():\n",
    "      pincode = words[i]\n",
    "      break\n",
    "    \n",
    "  # If no 6 digit pincode found, print message    \n",
    "  else:\n",
    "    print(\"No PIN code found in address\")\n",
    "    return\n",
    "\n",
    "  api_url = f\"https://api.postalpincode.in/pincode/{pincode}\"\n",
    "  \n",
    "  #API call\n",
    "  response = requests.get(api_url)\n",
    "  \n",
    "  # Get JSON data from response\n",
    "  data = response.json()\n",
    "\n",
    "  # Checking if API call was successful\n",
    "  if data[0]['Status'] == 'Success':\n",
    "      \n",
    "    for postOffice in data[0]['PostOffice']:\n",
    "      \n",
    "      # Checking if post office name is in address  \n",
    "      if postOffice['Name'].lower() in address.lower():\n",
    "        print(\"Valid PIN code\")\n",
    "        return\n",
    "\n",
    "  # If no matching post office found   \n",
    "  print(\"Invalid PIN code\")\n",
    "\n",
    "# Example 1\n",
    "address1 = \"2nd Phase, 374/B, 80 Feet Rd, Mysore Bank Colony, Banashankari 3rd Stage, Srinivasa Nagar, Bengaluru, Karnataka 560050\"\n",
    "\n",
    "# Example 2\n",
    "address2 = \"2nd Phase, 374/B, 80 Feet Rd, Bank Colony, Banashankari 3rd Stage, Srinivasa Nagar, Bengaluru, Karnataka 560095\"\n",
    "\n",
    "validate_pincode(address1)\n",
    "validate_pincode(address2)"
   ]
  },
  {
   "cell_type": "code",
   "execution_count": null,
   "id": "180b5d76",
   "metadata": {},
   "outputs": [],
   "source": []
  },
  {
   "cell_type": "code",
   "execution_count": null,
   "id": "18cf5e05",
   "metadata": {},
   "outputs": [],
   "source": []
  },
  {
   "cell_type": "code",
   "execution_count": null,
   "id": "586bc4e4",
   "metadata": {},
   "outputs": [],
   "source": []
  }
 ],
 "metadata": {
  "kernelspec": {
   "display_name": "Python 3 (ipykernel)",
   "language": "python",
   "name": "python3"
  },
  "language_info": {
   "codemirror_mode": {
    "name": "ipython",
    "version": 3
   },
   "file_extension": ".py",
   "mimetype": "text/x-python",
   "name": "python",
   "nbconvert_exporter": "python",
   "pygments_lexer": "ipython3",
   "version": "3.11.3"
  }
 },
 "nbformat": 4,
 "nbformat_minor": 5
}
